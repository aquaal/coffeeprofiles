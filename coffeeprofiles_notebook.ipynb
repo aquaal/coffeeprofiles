{
 "cells": [
  {
   "cell_type": "markdown",
   "metadata": {},
   "source": [
    "# Coffee Profiles\n",
    "This notebook describes the data analysis process for an experimental design project focused on different aspects of coffee profiles. The data used in this project were scraped from the website of a [green coffee company](https://www.sweetmarias.com/). The webscraper and cleaning scripts, as well as the raw data, can be found in [my GitHub profile](https://github.com/aquaal/coffeeprofiles).\n",
    "\n",
    "## Coffee Profile Features\n",
    "Each coffee variety in the dataset below contains the following information:\n",
    "* **Name**: Name of the coffee variety\n",
    "* **Origin**: Region in which coffee is grown\n",
    "* **Processing**: Method by which coffee beans are removed from coffee cherries\n",
    "* **Flavor Notes**: Prevalence of each of twelve standard flavor notes, each on an integer scale of 0-5\n",
    "* **Cupping Scores**: Rating of each of ten cupping sub-scores, each on a float scale of 6-10\n",
    "* **Total Score**: Overall cupping score on a float scale of 60-100\n",
    "\n",
    "## Cupping Scores & Coffee Prices\n",
    "The prices of coffee are largely determined by the commodity futures market -- or \"C market\" -- and the Intercontinental Exchange (ICE). Recently, the Speciality Coffee Association (SCA) has declared a price crisis in the speciality coffee industry, as the C market price has hovered at levels that make quality coffee production unsustainable for farmers in the Global South. Coffee prices based on the C market dropped below \\$1/lb for the first time in 2018 -- and while there are some premiums added to this price based on the quality, certifications, and origin of coffee beans, many farmers continue to operate at a loss. At the same time, speciality roasters have enjoyed profit margins sometimes exceeding 15\\% over the past decade. More information about the coffee price crisis can be found at the [SCA's website](https://www.sweetmarias.com/).\n",
    "\n",
    "Given this current trend in the coffee industry, alternative pricing models are appearing that more closely tie coffee to its quality as determined by professional coffee cuppers. These individuals are certified in the science and sensory skills of coffee tasting, and prices based on quality score (sometimes called the Q-score, developed by the [Coffee Quality Institute](https://www.coffeeinstitute.org/)) can be [dramatically higher](http://www.transparenttradecoffee.org/insights) than their C market analogues. \n",
    "\n",
    "As the price of coffee becomes more standardized on quality cupping scores, it is prudent for those in the industry to gain more insight into the factors that affect cupping scores. This project is a preliminary attempt to understand some of those factors.\n",
    "\n",
    "## Research Questions\n",
    "There are several questions that I am attempting to answer with this dataset:\n",
    "1. How do cupping scores vary by region?\n",
    "2. How do cupping scores vary by processing method?\n",
    "3. How does the presence of certain flavor notes affect cupping scores?\n",
    "\n",
    "The rest of this notebook attempts to answer these questions one-by-one."
   ]
  },
  {
   "cell_type": "markdown",
   "metadata": {},
   "source": [
    "### Data Preparation\n",
    "The cells below import and prepare the data for analysis."
   ]
  },
  {
   "cell_type": "code",
   "execution_count": 16,
   "metadata": {
    "scrolled": true
   },
   "outputs": [
    {
     "name": "stdout",
     "output_type": "stream",
     "text": [
      "<class 'pandas.core.frame.DataFrame'>\n",
      "RangeIndex: 357 entries, 0 to 356\n",
      "Data columns (total 26 columns):\n",
      " #   Column          Non-Null Count  Dtype  \n",
      "---  ------          --------------  -----  \n",
      " 0   Name            357 non-null    object \n",
      " 1   Origin          354 non-null    object \n",
      " 2   Processing      357 non-null    object \n",
      " 3   Floral          357 non-null    float64\n",
      " 4   Honey           357 non-null    float64\n",
      " 5   Sugars          357 non-null    float64\n",
      " 6   Caramel         357 non-null    float64\n",
      " 7   Fruits          357 non-null    float64\n",
      " 8   Citrus          357 non-null    float64\n",
      " 9   Berry           357 non-null    float64\n",
      " 10  Cocoa           357 non-null    float64\n",
      " 11  Nuts            357 non-null    float64\n",
      " 12  Rustic          357 non-null    float64\n",
      " 13  Spice           357 non-null    float64\n",
      " 14  Body (Flavor)   357 non-null    float64\n",
      " 15  Dry Fragrance   357 non-null    float64\n",
      " 16  Wet Aroma       357 non-null    float64\n",
      " 17  Brightness      357 non-null    float64\n",
      " 18  Flavor          357 non-null    float64\n",
      " 19  Body (Cupping)  357 non-null    float64\n",
      " 20  Finish          357 non-null    float64\n",
      " 21  Sweetness       357 non-null    float64\n",
      " 22  Clean Cup       357 non-null    float64\n",
      " 23  Complexity      357 non-null    float64\n",
      " 24  Uniformity      357 non-null    float64\n",
      " 25  Total Score     357 non-null    float64\n",
      "dtypes: float64(23), object(3)\n",
      "memory usage: 72.6+ KB\n"
     ]
    }
   ],
   "source": [
    "# Import necessary libraries\n",
    "import math\n",
    "import pandas as pd\n",
    "import numpy as np\n",
    "from matplotlib import pyplot as plt\n",
    "from scipy import stats\n",
    "\n",
    "# Load in data from GitHub repo\n",
    "path = 'https://raw.githubusercontent.com/aquaal/coffeeprofiles/main/coffee_data.csv'\n",
    "coffee_data = pd.read_csv(path)\n",
    "coffee_data.info()"
   ]
  },
  {
   "cell_type": "markdown",
   "metadata": {},
   "source": [
    "### Q1: How do cupping scores vary by region?\n",
    "While the coffees in this dataset come from 19 different countries, I grouped them into three major regions of production:\n",
    "* **East Africa**: Ethiopia, Kenya, Rwanda, Burundi, \\& Tanzania\n",
    "* **South America**: Costa Rica, El Salvador, Guatemala, Nicaragua, Honduras, Panama, Mexico, Brazil, Colombia, \\& Peru\n",
    "* **Southeast Asia**: Indonesia, Timor, \\& Papua New Guinea\n",
    "\n",
    "First, the data must be checked for normalcy."
   ]
  },
  {
   "cell_type": "code",
   "execution_count": 17,
   "metadata": {},
   "outputs": [],
   "source": [
    "# Split up dataset by origin\n",
    "coffee_africa = coffee_data[(coffee_data['Origin'] == 'East Africa')]\n",
    "coffee_samerica = coffee_data[(coffee_data['Origin'] == 'South America')]\n",
    "coffee_seasia = coffee_data[(coffee_data['Origin'] == 'Southeast Asia')]"
   ]
  },
  {
   "cell_type": "code",
   "execution_count": 18,
   "metadata": {
    "scrolled": false
   },
   "outputs": [
    {
     "data": {
      "image/png": "[encoded data removed]",
      "text/plain": [
       "<Figure size 432x288 with 1 Axes>"
      ]
     },
     "metadata": {
      "needs_background": "light"
     },
     "output_type": "display_data"
    }
   ],
   "source": [
    "# Plot histographs of each subset of data\n",
    "plt.hist(coffee_africa['Total Score'], alpha = .5, label = \"african\")\n",
    "plt.hist(coffee_samerica['Total Score'], alpha = .5, label = \"south america\")\n",
    "plt.hist(coffee_seasia['Total Score'], alpha = .5, label = \"southeast asia\")\n",
    "plt.legend(loc='upper right')\n",
    "plt.title('total cupping score distribution by region')\n",
    "plt.show()"
   ]
  },
  {
   "cell_type": "code",
   "execution_count": 19,
   "metadata": {
    "scrolled": true
   },
   "outputs": [
    {
     "name": "stdout",
     "output_type": "stream",
     "text": [
      "East African: \n",
      " DescribeResult(nobs=128, minmax=(82.10000000000002, 93.1), mean=88.2609375, variance=5.0682258858267675, skewness=-0.10436861880328711, kurtosis=-0.45426735622902825) \n",
      "\n",
      "South American: \n",
      " DescribeResult(nobs=185, minmax=(77.1, 93.2), mean=85.15945945945947, variance=4.522858401880142, skewness=0.3009226210762872, kurtosis=3.163628577034884) \n",
      "\n",
      "Southeast Asian: \n",
      " DescribeResult(nobs=41, minmax=(81.0, 86.8), mean=84.1780487804878, variance=2.3472560975609706, skewness=-0.39019430465067, kurtosis=-0.6722850078063054) \n",
      "\n"
     ]
    }
   ],
   "source": [
    "# Print out skewness and kurtosis values for each subset of data, along with the median\n",
    "print('East African:', '\\n', stats.describe(coffee_africa['Total Score']), '\\n')\n",
    "print('South American:', '\\n', stats.describe(coffee_samerica['Total Score']), '\\n')\n",
    "print('Southeast Asian:', '\\n', stats.describe(coffee_seasia['Total Score']), '\\n')"
   ]
  },
  {
   "cell_type": "markdown",
   "metadata": {},
   "source": [
    "#### Statistical Test for Q1\n",
    "The cupping score distribution for South America is too leptokurtic to assume normality, so a Kruskal-Wallis H-test will have to be used on these data. This is a non-parametric version of ANOVA, which tests the null hypothesis that the population median of groups are equal. In other words, our null hypothesis is that $M_{EA} = M_{SA} = M_{SEA}$."
   ]
  },
  {
   "cell_type": "code",
   "execution_count": 20,
   "metadata": {
    "scrolled": true
   },
   "outputs": [
    {
     "name": "stdout",
     "output_type": "stream",
     "text": [
      "East African vs. South American: KruskalResult(statistic=117.16909693677592, pvalue=2.6360690277295793e-27)\n",
      "East African vs. Southeast Asian: KruskalResult(statistic=71.69118273817458, pvalue=2.516545609954639e-17)\n",
      "South American vs. Southeast Asian: KruskalResult(statistic=9.292390177566123, pvalue=0.0023010772803395323)\n"
     ]
    }
   ],
   "source": [
    "# Perform Kruskal-Wallis H-test on each pair of subsets\n",
    "print('East African vs. South American:', stats.kruskal(coffee_africa['Total Score'], coffee_samerica['Total Score']))\n",
    "print('East African vs. Southeast Asian:', stats.kruskal(coffee_africa['Total Score'], coffee_seasia['Total Score']))\n",
    "print('South American vs. Southeast Asian:', stats.kruskal(coffee_samerica['Total Score'], coffee_seasia['Total Score']))"
   ]
  },
  {
   "cell_type": "markdown",
   "metadata": {},
   "source": [
    "#### Results for Q1\n",
    "These results show there is a significant difference between the median cupping scores of each region. The descriptive stats displayed above do not show the median for each set, but we can find them here."
   ]
  },
  {
   "cell_type": "code",
   "execution_count": 21,
   "metadata": {},
   "outputs": [
    {
     "name": "stdout",
     "output_type": "stream",
     "text": [
      "Median cupping score by region:\n",
      "East African: 88.15\n",
      "South American: 85.1\n",
      "Southeast Asian: 84.5\n"
     ]
    }
   ],
   "source": [
    "# Print median values of each subset\n",
    "print('Median cupping score by region:')\n",
    "print('East African:', np.median(coffee_africa['Total Score']))\n",
    "print('South American:', np.median(coffee_samerica['Total Score']))\n",
    "print('Southeast Asian:', np.median(coffee_seasia['Total Score']))"
   ]
  },
  {
   "cell_type": "markdown",
   "metadata": {},
   "source": [
    "Based on the median of each region's distribution, it appers **East Africa yielded the highest cupping scores, following by South America and then Southeast Asia**."
   ]
  },
  {
   "cell_type": "markdown",
   "metadata": {},
   "source": [
    "### Q2: How do cupping scores vary by processing method?\n",
    "There are many processing methods for coffee, but *most* can be grouped into three categories\n",
    "* **Wet Process**: These methods remove beans from the coffee cherries before they are dried; there are a variety of wet process methods, but they all involve substantial overhead equipment and water. These methods can have a negative impact on the local ecology, as they generate wastewater. However, they reflect a growing understanding of coffee science and provide a method by which farmers can add value to their product locally.\n",
    "    * Wet methods in this dataset include \"Wet Process\", \"Wet Process Kenya Type\", and \"Machine Washed\"\n",
    "\n",
    "* **Dry Process**: This method allows coffee cherries to dry on tables or patios first, before the removal of coffee beans. It is the oldest method of coffee processing and the least technologically-intensive. However, it is not a practical method in regions with high humidity or rainfall.\n",
    "\n",
    "* **Semi-Dry Process**: These processes are rather varied, but they all reflect an intermediate method between wet and dry processing. These processes involve the removal of the outer skin of coffee cherries prior to a waiting period of up to a day before a washing and drying procedure. Bacteria can be an issue, as pulped coffee cherries can ferment in their mucilage.\n",
    "    * Semi-dry methods in this dataset include \"Honey Process\", \"Pulp Natural\", \"Wet Hulled\", and \"Giling Basah\"\n",
    "\n",
    "* **Decaffeination Methods**: There are some coffees in this dataset which underwent decaffeination methods. However, there are only 5 such instances of this, so they were not included in this analysis.\n",
    "\n",
    "First, the data must be checked for normalcy."
   ]
  },
  {
   "cell_type": "code",
   "execution_count": 22,
   "metadata": {},
   "outputs": [],
   "source": [
    "# Split up dataset by processing method\n",
    "coffee_wet = coffee_data[(coffee_data['Processing'] == 'Wet Process') \n",
    "                        | (coffee_data['Processing'] == 'Wet Process Kenya Type')\n",
    "                        | (coffee_data['Processing'] == 'Machine Washed')]\n",
    "\n",
    "coffee_dry = coffee_data[(coffee_data['Processing'] == 'Dry Process')]\n",
    "\n",
    "coffee_semidry = coffee_data[(coffee_data['Processing'] == 'Honey Process') \n",
    "                        | (coffee_data['Processing'] == 'Pulp Natural')\n",
    "                        | (coffee_data['Processing'] == 'Wet Hulled') \n",
    "                        | (coffee_data['Processing'] == 'Giling Basah')]"
   ]
  },
  {
   "cell_type": "code",
   "execution_count": 23,
   "metadata": {
    "scrolled": true
   },
   "outputs": [
    {
     "data": {
      "image/png": "[encoded data removed]",
      "text/plain": [
       "<Figure size 432x288 with 1 Axes>"
      ]
     },
     "metadata": {
      "needs_background": "light"
     },
     "output_type": "display_data"
    }
   ],
   "source": [
    "# Plot histographs of each subset of data\n",
    "plt.hist(coffee_wet['Total Score'], alpha = .5, label = \"wet process\")\n",
    "plt.hist(coffee_dry['Total Score'], alpha = .5, label = \"dry process\")\n",
    "plt.hist(coffee_semidry['Total Score'], alpha = .5, label = \"semi-dry process\")\n",
    "plt.legend(loc='upper right')\n",
    "plt.title('total cupping score distribution by processing method')\n",
    "plt.show()"
   ]
  },
  {
   "cell_type": "code",
   "execution_count": 24,
   "metadata": {
    "scrolled": true
   },
   "outputs": [
    {
     "name": "stdout",
     "output_type": "stream",
     "text": [
      "Wet Process: \n",
      " DescribeResult(nobs=261, minmax=(82.0, 93.1), mean=86.54636015325671, variance=5.409419392867666, skewness=0.7802577935171323, kurtosis=-0.1599365330063791) \n",
      "\n",
      "Dry Process: \n",
      " DescribeResult(nobs=51, minmax=(77.1, 93.2), mean=86.11372549019609, variance=13.363607843137258, skewness=-0.22016163076654657, kurtosis=-0.4987210038694565) \n",
      "\n",
      "Semi-dry Process: \n",
      " DescribeResult(nobs=35, minmax=(79.5, 90.0), mean=83.99714285714286, variance=4.936168067226882, skewness=0.23502359490048175, kurtosis=-0.03346196047950922) \n",
      "\n"
     ]
    }
   ],
   "source": [
    "# Print out skewness and kurtosis values for each subset of data, along with the median\n",
    "print('Wet Process:', '\\n', stats.describe(coffee_wet['Total Score']), '\\n')\n",
    "print('Dry Process:', '\\n', stats.describe(coffee_dry['Total Score']), '\\n')\n",
    "print('Semi-dry Process:', '\\n', stats.describe(coffee_semidry['Total Score']), '\\n')"
   ]
  },
  {
   "cell_type": "markdown",
   "metadata": {},
   "source": [
    "#### Statistical Test for Q2\n",
    "These three distributions appear to be normally distributed, so we can use ANOVA to compare their population means. Our null hypothesis is that there is no difference between the means of these three populations, or: $\\mu_{WP} = \\mu_{DP} = \\mu_{SDP}$."
   ]
  },
  {
   "cell_type": "code",
   "execution_count": 25,
   "metadata": {
    "scrolled": false
   },
   "outputs": [
    {
     "name": "stdout",
     "output_type": "stream",
     "text": [
      "F_onewayResult(statistic=15.440211640409853, pvalue=3.7887602460151663e-07)\n"
     ]
    }
   ],
   "source": [
    "# Perform ANOVA on subsets\n",
    "print(stats.f_oneway(coffee_wet['Total Score'], coffee_dry['Total Score'], coffee_semidry['Total Score']))"
   ]
  },
  {
   "cell_type": "markdown",
   "metadata": {},
   "source": [
    "From these results, it is clear that there is a significant difference between the means of the three methods. However, the descriptive statistics show a remarkably close mean for the wet and dry processes. We can conduct three individual t-tests to see the difference between each pair of subsets."
   ]
  },
  {
   "cell_type": "code",
   "execution_count": 26,
   "metadata": {},
   "outputs": [
    {
     "name": "stdout",
     "output_type": "stream",
     "text": [
      "Wet vs. Dry Process: Ttest_indResult(statistic=1.0923452802438756, pvalue=0.27552954395476437)\n",
      "Wet vs. Semi-dry Process: Ttest_indResult(statistic=6.119953529586891, pvalue=2.984613628754644e-09)\n",
      "Dry vs. Semi-dry Process: Ttest_indResult(statistic=3.05660269833692, pvalue=0.0030012455376790827)\n"
     ]
    }
   ],
   "source": [
    "# Perform pairwise t-tests\n",
    "print('Wet vs. Dry Process:', stats.ttest_ind(coffee_wet['Total Score'], coffee_dry['Total Score']))\n",
    "print('Wet vs. Semi-dry Process:', stats.ttest_ind(coffee_wet['Total Score'], coffee_semidry['Total Score']))\n",
    "print('Dry vs. Semi-dry Process:', stats.ttest_ind(coffee_dry['Total Score'], coffee_semidry['Total Score']))"
   ]
  },
  {
   "cell_type": "markdown",
   "metadata": {},
   "source": [
    "Since these distributions were normal, we can also calculate a confidence interval for each pairwise t-test. Since there is no built-in function for calculating confidence intervals, we can define one here (for 95% CI)."
   ]
  },
  {
   "cell_type": "code",
   "execution_count": 27,
   "metadata": {},
   "outputs": [],
   "source": [
    "# Define function to calculate 95% confidence intervals for two arrays of values\n",
    "def ci_95(array1, array2):\n",
    "    s1_n = array1.shape[0]\n",
    "    s2_n = array2.shape[0]\n",
    "    s1_mean = array1.mean()\n",
    "    s2_mean = array2.mean()\n",
    "    s1_var = array1.var()\n",
    "    s2_var = array2.var()\n",
    "    mean_diff = s1_mean - s2_mean\n",
    "    se_diff = math.sqrt((s1_var/s1_n)+(s2_var/s2_n))\n",
    "    margin_error = 1.96 * se_diff\n",
    "    ci_lower = mean_diff - margin_error\n",
    "    ci_upper = mean_diff + margin_error\n",
    "    cis = [ci_lower, ci_upper]\n",
    "    return cis"
   ]
  },
  {
   "cell_type": "code",
   "execution_count": 28,
   "metadata": {},
   "outputs": [
    {
     "name": "stdout",
     "output_type": "stream",
     "text": [
      "Wet vs. Semi-dry Process: [1.76091923809043, 3.3375153541372744]\n",
      "Dry vs. Semi-dry Process: [0.872229741534388, 3.360935524572066]\n"
     ]
    }
   ],
   "source": [
    "# Calculate confidence intervals for three pairwise t-tests\n",
    "print('Wet vs. Semi-dry Process:', ci_95(coffee_wet['Total Score'], coffee_semidry['Total Score']))\n",
    "print('Dry vs. Semi-dry Process:', ci_95(coffee_dry['Total Score'], coffee_semidry['Total Score']))"
   ]
  },
  {
   "cell_type": "markdown",
   "metadata": {},
   "source": [
    "#### Results for Q2\n",
    "As we can see from these pairwise t-tests, there is a sigificant difference between both wet and dry processes when they are compared to semi-dry processes. Within a confidence interval of 95%, wet process coffees seem to score between 1.76 to 3.34 cupping points higher than semidry process coffees. Dry process coffees score on average 0.87 to 3.36 points higher.\n",
    "\n",
    "However, there is not a sigifnicant difference between the means of wet and dry processes."
   ]
  },
  {
   "cell_type": "markdown",
   "metadata": {},
   "source": [
    "### Q3: How does the presence of certain flavor notes affect cupping scores?\n",
    "One of the most important end-results of processing methods is the heightening of flavor notes within a coffee. The coffee varities of different countries -- and even entire regions -- are often characterized by a few common flavor notes. East African coffees (my favorites) often carry floral and citrus notes. South American coffees are known for their deep chocolate and fruity notes, and Southeastern Asian coffees tend to have spicy, earthy notes.\n",
    "\n",
    "There are 12 different flavor notes whose prevalence are recorded in this dataset, each on a scale of 0-5:\n",
    "* Floral\n",
    "* Honey\n",
    "* Sugars\n",
    "* Caramel\n",
    "* Fruits\n",
    "* Citrus\n",
    "* Berry\n",
    "* Cocoa\n",
    "* Nuts\n",
    "* Rustic\n",
    "* Spice\n",
    "* Body\n",
    "\n",
    "While flavor notes are often one of individual preference, it may be insightful to see how the prevalence of each note affects the overall cupping score (or not). \n",
    "\n",
    "**This section is interactive**, requesting both a flavor and a flavor threshold (1-5) from the user. The script then subsets data based on the coffees which meet both the flabor and threshold criteria against all coffees which do not meet that criteria. *In order to receive any insightful results, a threshold of 3-4 is recommended.*"
   ]
  },
  {
   "cell_type": "code",
   "execution_count": 29,
   "metadata": {
    "scrolled": true
   },
   "outputs": [
    {
     "name": "stdout",
     "output_type": "stream",
     "text": [
      "1 : Floral\n",
      "2 : Honey\n",
      "3 : Sugars\n",
      "4 : Caramel\n",
      "5 : Fruits\n",
      "6 : Citrus\n",
      "7 : Berry\n",
      "8 : Cocoa\n",
      "9 : Nuts\n",
      "10 : Rustic\n",
      "11 : Spice\n",
      "12 : Body (Flavor)\n",
      "Please enter the number of a flavor note: 1\n",
      "You chose notes of floral.\n",
      "On a scale of 0-5, what threshold value would you like to test? Thresholds of 2-4 are strongly recommended. 3\n",
      "OK... testing our dataset for floral notes at a threshold of 3.\n",
      "Splitting batches...\n",
      "Processing beans...\n",
      "Checking for defects...\n",
      "Roasting results...\n",
      "There is a significant difference between the total cupping scores of coffee with notes of floral above a threshold of 3 and other coffees.\n",
      "t-statistic: 8.635246154431051\n",
      "p-value: 2.0119185472111335e-16\n",
      "95% confidence intervals: [4.319327854840623, 5.773002528640291]\n",
      "This means we are 95% confident that coffees matching your criteria have total cupping scores that are 4.32 to 5.77 HIGHER on average than coffees that didn't match your criteria.\n"
     ]
    }
   ],
   "source": [
    "# Initialize flavor dictionary\n",
    "flavors = {1: 'Floral', 2: 'Honey', 3: 'Sugars', 4: 'Caramel', 5: 'Fruits', 6: 'Citrus',\n",
    "           7: 'Berry', 8: 'Cocoa', 9: 'Nuts', 10: 'Rustic', 11: 'Spice', 12: 'Body (Flavor)'}\n",
    "\n",
    "# Print out flavor note selections for user\n",
    "for k,v in flavors.items():\n",
    "    print(k, \":\", v)\n",
    "\n",
    "# Ask user for flavor note input; test to ensure it is a valid entry\n",
    "flavor_needed = True\n",
    "while flavor_needed:\n",
    "    flavor = input(\"Please enter the number of a flavor note: \")\n",
    "    \n",
    "    try:\n",
    "        f = int(flavor)\n",
    "    except:\n",
    "        print(\"That's not a valid entry. Please enter a number.\")\n",
    "        continue\n",
    "\n",
    "    if f in range(1, len(flavors.items())+1):\n",
    "        flavor_needed = False\n",
    "    else:\n",
    "        print(\"That's not a valid entry. Please enter a number from 1-12.\")\n",
    "\n",
    "# Repeat input to user\n",
    "flavor = flavors[f]\n",
    "print(\"You chose notes of\", flavor.lower() + \".\")\n",
    "\n",
    "# Ask the user for a threshold value; maximum value can be adjusted in range() argument\n",
    "threshold_needed = True\n",
    "while threshold_needed:\n",
    "    threshold = input(\"On a scale of 0-5, what threshold value would you like to test? Thresholds of 2-4 are strongly recommended. \")\n",
    "    \n",
    "    try:\n",
    "        t = int(threshold)\n",
    "    except:\n",
    "        print(\"That's not a valid entry. Please enter a number.\")\n",
    "        continue\n",
    "    \n",
    "    if t in range(0, 6):\n",
    "        threshold_needed = False\n",
    "    else:\n",
    "        print(\"That's not a valid entry. Please enter a number from 0-5.\")\n",
    "\n",
    "# Repeat input to user\n",
    "threshold = t\n",
    "print(\"OK... testing our dataset for\", flavor.lower(), \"notes at a threshold of\", str(threshold) + \".\")\n",
    "\n",
    "# Subset data based on user input\n",
    "print(\"Splitting batches...\")\n",
    "coffee_selected = coffee_data[(coffee_data[flavor] >= threshold)]\n",
    "coffee_not_selected = coffee_data[(coffee_data[flavor] < threshold)]\n",
    "\n",
    "# Check to ensure the datasets are not empty\n",
    "print(\"Processing beans...\")\n",
    "if coffee_selected['Name'].count() < 10:\n",
    "    print(\"Very few of our coffees matched your selections. Please restart the script and try a lower threshold.\")\n",
    "    raise KeyboardInterrupt\n",
    "\n",
    "elif coffee_not_selected['Name'].count() < 10:\n",
    "    print(\"Almost all of our coffees matched your selections. Please restart the script and try a higher threshold.\")\n",
    "    raise KeyboardInterrupt\n",
    "\n",
    "# Check the total cupping score distribution of both subsets for normalcy\n",
    "print(\"Checking for defects...\")\n",
    "coffee_selected_is_normal = False\n",
    "coffee_not_selected_is_normal = False\n",
    "\n",
    "# Check skewness and kutrosis of selected coffee subset\n",
    "stats_selected = stats.describe(coffee_selected['Total Score'])\n",
    "skew_selected = np.absolute(stats_selected[4])\n",
    "kurtosis_selected = np.absolute(stats_selected[5])\n",
    "\n",
    "# Check skewness and kurtosis of non-selected coffee subset\n",
    "stats_not_selected = stats.describe(coffee_not_selected['Total Score'])\n",
    "skew_not_selected = np.absolute(stats_not_selected[4])\n",
    "kurtosis_not_selected = np.absolute(stats_not_selected[5])\n",
    "\n",
    "if skew_selected <= 3 and kurtosis_selected <= 3:\n",
    "    coffee_selected_is_normal = True\n",
    "\n",
    "if skew_not_selected <= 3 and kurtosis_not_selected <= 3:\n",
    "    coffee_not_selected_is_normal = True\n",
    "\n",
    "# If the total cupping scores of both subsets are normally distributed, run a t-test and report results\n",
    "print(\"Roasting results...\")\n",
    "if coffee_selected_is_normal and coffee_not_selected_is_normal:\n",
    "    coffee_stats = stats.ttest_ind(coffee_selected['Total Score'], coffee_not_selected['Total Score'])\n",
    "    coffee_cis = ci_95(coffee_selected['Total Score'], coffee_not_selected['Total Score'])\n",
    "    \n",
    "    if coffee_stats[1] < 0.05:\n",
    "        print(\"There is a significant difference between the total cupping scores of coffee with notes of\", \n",
    "              flavor.lower(), \"above a threshold of\", threshold, \"and other coffees.\")\n",
    "        print(\"t-statistic:\", str(coffee_stats[0]))\n",
    "        print(\"p-value:\", str(coffee_stats[1]))\n",
    "        print(\"95% confidence intervals:\", coffee_cis)\n",
    "        \n",
    "        if coffee_cis[0] < 0:\n",
    "            print(\"This means we are 95% confident that coffees matching your criteria have total cupping scores that are\",\n",
    "             round(-coffee_cis[1], 2), \"to\", round(-coffee_cis[0], 2), \"LOWER on average than coffees that didn't match your criteria.\")\n",
    "        \n",
    "        if coffee_cis[1] > 0:\n",
    "            print(\"This means we are 95% confident that coffees matching your criteria have total cupping scores that are\",\n",
    "                  round(coffee_cis[0], 2), \"to\", round(coffee_cis[1], 2), \"HIGHER on average than coffees that didn't match your criteria.\")\n",
    "    \n",
    "    else:\n",
    "        print(\"There is NOT a significant difference between the total cupping scores of coffee with notes of\", \n",
    "              flavor.lower(), \"above a threshold of\", threshold, \"and other coffees.\")\n",
    "        print(\"t-statistic:\", str(coffee_stats[0]))\n",
    "        print(\"p-value:\", str(coffee_stats[1]))\n",
    "\n",
    "# If the total cupping scores of both subsets are NOT normally distributed, run a Kruskal-Wallis test and report results\n",
    "else:\n",
    "    coffee_stats = stats.kruskal(coffee_selected['Total Score'], coffee_not_selected['Total Score'])\n",
    "    \n",
    "    if coffee_stats[1] < 0.05:\n",
    "        print(\"There is a significant difference between the total cupping scores of coffee with notes of\", \n",
    "              flavor.lower(), \"above a threshold of\", threshold, \"and other coffees.\")\n",
    "        print(\"Kruskal-Wallis H-statistic:\", str(coffee_stats[0]))\n",
    "        print(\"p-value:\", str(coffee_stats[1]))\n",
    "    \n",
    "    else:\n",
    "        print(\"There is NOT a significant difference between the total cupping scores of coffee with notes of\", \n",
    "              flavor.lower(), \"above a threshold of\", threshold, \"and other coffees.\")\n",
    "        print(\"Kruskal-Wallis H-statistic:\", str(coffee_stats[0]))\n",
    "        print(\"p-value:\", str(coffee_stats[1]))"
   ]
  },
  {
   "cell_type": "markdown",
   "metadata": {},
   "source": [
    "#### Results for Q3\n",
    "While the script above is intended to be interactive, I ran it for each of the twelve flavors at a threshold of 3. The results for each trial are below, reported as the average difference in total cupping score at the 95% confidence interval.\n",
    "\n",
    "* **Floral**: 4.32 to 5.77 HIGHER\n",
    "* **Honey**: 1.03 to 2.81 HIGHER\n",
    "* **Sugars**: 2.15 to 3.22 HIGHER\n",
    "* **Caramel**: NOT a significant difference\n",
    "* **Fruits**: 2.45 to 3.54 HIGHER\n",
    "* **Citrus**: 3.62 to 4.81 HIGHER\n",
    "* **Berry**: 1.65 to 2.9 HIGHER\n",
    "* **Cocoa**: 2.17 to 3.22 LOWER\n",
    "* **Nuts**: 4.3 to 5.35 LOWER\n",
    "* **Rustic**: 1.54 to 3.03 LOWER\n",
    "* **Spice**: 1.69 to 3.17 HIGHER\n",
    "* **Body**: NOT a significant difference\n",
    "\n",
    "There appears to be a significant difference (higher or lower) for all but two of these flavor notes when compared to other coffees. In an effort to tease apart *why* this occured, I wanted to check the frequency of each flavor note score -- since it may be the case that rarer notes score higher than more common notes."
   ]
  },
  {
   "cell_type": "code",
   "execution_count": 30,
   "metadata": {},
   "outputs": [
    {
     "data": {
      "image/png": "[encoded data removed]",
      "text/plain": [
       "<Figure size 1152x864 with 12 Axes>"
      ]
     },
     "metadata": {
      "needs_background": "light"
     },
     "output_type": "display_data"
    }
   ],
   "source": [
    "# Create a 3 x 4 subplot of histograms\n",
    "fig, ax = plt.subplots(nrows = 3, ncols = 4, sharex = True, sharey = True, figsize = (16, 12))\n",
    "\n",
    "# Iterate through 12 flavors to plot each one\n",
    "k = 1\n",
    "for i in range(0, 3):\n",
    "    for j in range(0, 4):\n",
    "        ax[i, j].hist(coffee_data[flavors[k]])\n",
    "        ax[i, j].set_title(flavors[k].lower(), fontsize = 12)\n",
    "        k += 1\n",
    "\n",
    "# Add title and axis labels\n",
    "fig.suptitle(\"frequency of flavor notes\", fontsize = 16)\n",
    "plt.setp(ax[-1,:], xlabel = \"flavor note prevalence\")\n",
    "plt.setp(ax[:, 0], ylabel = \"count\")\n",
    "plt.show()"
   ]
  },
  {
   "cell_type": "markdown",
   "metadata": {},
   "source": [
    "Based on the histograms above, there does not appear to be a clear relationship between the rarity of a flavor note and its tendency to elevate cupping scores. For example, floral notes are very rare and showed the highest difference in means in the data above. However, nut notes are similarly rare and had an adverse effect on cupping scores. Conversely, sugar notes (which are relatively common) had positive effects on cupping scores while cocoa notes (which is similarly common) had negative effects."
   ]
  },
  {
   "cell_type": "markdown",
   "metadata": {},
   "source": [
    "## Conclusions\n",
    "There are three major takeaways from these analyses:\n",
    "* Coffees from East Africa scored significantly higher than those from South America and Southeastern Asia.\n",
    "* Coffees processed with wet or dry methods scored significantly higher than those processed with semi-dry methods.\n",
    "* The presence of 10 of the 12 flavor notes in this dataset (at a threshold of 3/5) had a significant effect on cupping scores.\n",
    "\n",
    "One theme I have noticed in these analyses is that processes and flavor notes typical of Southeast Asian coffees tended to yield lower average cupping scores than those of South America and East Africa. Semi-dry processing methods are most prevalent in Indonesia, and Southeast Asian coffees tend to be associated with rustic notes. Brazil is another country where semi-dry processes are used, though not as widespread as in Indonesia; Brazilian coffees are notable for their cocoa notes, in general. On the other hand, East African coffees (along with their floral and citrus notes) tended to be among the highest-scoring coffees. These coffees are often wet processed, which is notable for its ability to heighten the flavor notes of single-origin coffees.\n",
    "\n",
    "Another avenue of further study is both the dependence of cupping score *as a function* of their prominence. One could imagine a certain flavor note -- such as spice or cocoa -- would have some inflection point beyond which the note becomes overpowering. This cursory analysis only looked at cupping score for one threshold value at a time. In addition, *combinations* of flavor notes might provide a clearer view of which notes, in tandem, positively or negatively affect cupping scores.\n",
    "\n",
    "If the industry continues to move toward alternative pricing models based on cupping scores, it would be of particular importance for importers of specific coffee varieties to understand the factors that affect cupping scores. There could be an inherent disadvantage given to these varieties in the established scoring processes, but there may also be other confounding variables at play. In either case, further investigation into this area is warranted."
   ]
  }
 ],
 "metadata": {
  "kernelspec": {
   "display_name": "Python 3",
   "language": "python",
   "name": "python3"
  },
  "language_info": {
   "codemirror_mode": {
    "name": "ipython",
    "version": 3
   },
   "file_extension": ".py",
   "mimetype": "text/x-python",
   "name": "python",
   "nbconvert_exporter": "python",
   "pygments_lexer": "ipython3",
   "version": "3.8.3"
  }
 },
 "nbformat": 4,
 "nbformat_minor": 4
}
